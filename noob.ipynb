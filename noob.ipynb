# ================================
# 🔗 Direct Link → Google Drive
# ================================

# 1. Mount Google Drive
from google.colab import drive
drive.mount('/content/drive')

# 2. Install aria2 (fast downloader)
!apt-get install -y aria2

# 3. 🔴 Paste your direct download link here
download_url = "https://example.com/file.zip"  

# 4. 🔴 Where to save in Google Drive
save_path = "/content/drive/MyDrive/Downloaded_File.zip"  

# 5. Download file with aria2
!aria2c -x 16 -s 16 -k 1M "{download_url}" \
  -o "{save_path.split('/')[-1]}" \
  -d "{'/'.join(save_path.split('/')[:-1])}"

print(f"✅ Done! File saved to: {save_path}")
