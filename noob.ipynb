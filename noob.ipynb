{
 "cells": [
  {
   "cell_type": "markdown",
   "metadata": {},
   "source": [
    "# 🔗 Direct Link → Google Drive\n",
    "This notebook downloads any file from a direct link and saves it directly to your **Google Drive**."
   ]
  },
  {
   "cell_type": "code",
   "execution_count": null,
   "metadata": {},
   "outputs": [],
   "source": [
    "# 1. Mount Google Drive\n",
    "from google.colab import drive\n",
    "drive.mount('/content/drive')"
   ]
  },
  {
   "cell_type": "code",
   "execution_count": null,
   "metadata": {},
   "outputs": [],
   "source": [
    "# 2. Install aria2 (fast downloader)\n",
    "!apt-get install -y aria2"
   ]
  },
  {
   "cell_type": "code",
   "execution_count": null,
   "metadata": {},
   "outputs": [],
   "source": [
    "# 3. 🔴 Enter your download link and save path\n",
    "download_url = \"https://example.com/file.zip\"  # Replace with your link\n",
    "save_path = \"/content/drive/MyDrive/Downloaded_File.zip\"  # Change filename/location if needed"
   ]
  },
  {
   "cell_type": "code",
   "execution_count": null,
   "metadata": {},
   "outputs": [],
   "source": [
    "# 4. Download file with aria2\n",
    "!aria2c -x 16 -s 16 -k 1M \"{download_url}\" \\\n",
    "  -o \"{save_path.split('/')[-1]}\" \\\n",
    "  -d \"{'/'.join(save_path.split('/')[:-1])}\"\n",
    "\n",
    "print(f\"✅ Done! File saved to: {save_path}\")"
   ]
  }
 ],
 "metadata": {
  "colab": {
   "provenance": []
  },
  "kernelspec": {
   "display_name": "Python 3",
   "language": "python",
   "name": "python3"
  },
  "language_info": {
   "name": "python"
  }
 },
 "nbformat": 4,
 "nbformat_minor": 0
}
